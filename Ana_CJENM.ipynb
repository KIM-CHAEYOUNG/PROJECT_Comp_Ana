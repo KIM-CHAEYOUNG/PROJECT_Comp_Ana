{
 "cells": [
  {
   "cell_type": "code",
   "execution_count": 2,
   "metadata": {},
   "outputs": [],
   "source": [
    "import sqlite3 \n",
    "import numpy as np\n",
    "import pandas as pd\n",
    "import matplotlib as mpl\n",
    "import matplotlib.pyplot as plt\n",
    "import matplotlib.font_manager as fm\n",
    "fname=fm.FontProperties(fname='malgun.ttf').get_name()\n",
    "mpl.rc('font',family=fname)\n",
    "import matplotlib.gridspec as gridspec"
   ]
  },
  {
   "cell_type": "code",
   "execution_count": 3,
   "metadata": {},
   "outputs": [],
   "source": [
    "dbname='NaverStock.db'\n",
    "def selData(whr=' where SIDX=0'):\n",
    "    with sqlite3.connect(dbname) as conn:\n",
    "        cur=conn.cursor()\n",
    "        sql='select SDAY,OPENP,HIGHP,LOWP,CLOSEP,VOL from StockDay '+whr\n",
    "        cur.execute(sql)\n",
    "        rows=cur.fetchall()\n",
    "        cur.close()\n",
    "    return rows"
   ]
  },
  {
   "cell_type": "code",
   "execution_count": 4,
   "metadata": {},
   "outputs": [
    {
     "data": {
      "text/html": [
       "<div>\n",
       "<style scoped>\n",
       "    .dataframe tbody tr th:only-of-type {\n",
       "        vertical-align: middle;\n",
       "    }\n",
       "\n",
       "    .dataframe tbody tr th {\n",
       "        vertical-align: top;\n",
       "    }\n",
       "\n",
       "    .dataframe thead th {\n",
       "        text-align: right;\n",
       "    }\n",
       "</style>\n",
       "<table border=\"1\" class=\"dataframe\">\n",
       "  <thead>\n",
       "    <tr style=\"text-align: right;\">\n",
       "      <th></th>\n",
       "      <th>SDAY</th>\n",
       "      <th>OPENP</th>\n",
       "      <th>HIGHP</th>\n",
       "      <th>LOWP</th>\n",
       "      <th>CLOSEP</th>\n",
       "      <th>VOL</th>\n",
       "    </tr>\n",
       "  </thead>\n",
       "  <tbody>\n",
       "    <tr>\n",
       "      <th>0</th>\n",
       "      <td>20200102</td>\n",
       "      <td>159300</td>\n",
       "      <td>159400</td>\n",
       "      <td>151000</td>\n",
       "      <td>155600</td>\n",
       "      <td>125376</td>\n",
       "    </tr>\n",
       "    <tr>\n",
       "      <th>1</th>\n",
       "      <td>20200103</td>\n",
       "      <td>155800</td>\n",
       "      <td>157500</td>\n",
       "      <td>153100</td>\n",
       "      <td>154700</td>\n",
       "      <td>98855</td>\n",
       "    </tr>\n",
       "    <tr>\n",
       "      <th>2</th>\n",
       "      <td>20200106</td>\n",
       "      <td>153000</td>\n",
       "      <td>153900</td>\n",
       "      <td>150200</td>\n",
       "      <td>150200</td>\n",
       "      <td>78272</td>\n",
       "    </tr>\n",
       "    <tr>\n",
       "      <th>3</th>\n",
       "      <td>20200107</td>\n",
       "      <td>150300</td>\n",
       "      <td>154600</td>\n",
       "      <td>150300</td>\n",
       "      <td>154600</td>\n",
       "      <td>65431</td>\n",
       "    </tr>\n",
       "    <tr>\n",
       "      <th>4</th>\n",
       "      <td>20200108</td>\n",
       "      <td>152700</td>\n",
       "      <td>153200</td>\n",
       "      <td>150700</td>\n",
       "      <td>151300</td>\n",
       "      <td>75841</td>\n",
       "    </tr>\n",
       "  </tbody>\n",
       "</table>\n",
       "</div>"
      ],
      "text/plain": [
       "       SDAY   OPENP   HIGHP    LOWP  CLOSEP     VOL\n",
       "0  20200102  159300  159400  151000  155600  125376\n",
       "1  20200103  155800  157500  153100  154700   98855\n",
       "2  20200106  153000  153900  150200  150200   78272\n",
       "3  20200107  150300  154600  150300  154600   65431\n",
       "4  20200108  152700  153200  150700  151300   75841"
      ]
     },
     "execution_count": 4,
     "metadata": {},
     "output_type": "execute_result"
    }
   ],
   "source": [
    "#CJ_ENM\n",
    "whr='where SDAY>20200101 and SCODE=\"035760\" order by SDAY  asc limit 250'\n",
    "res=selData(whr)\n",
    "cols=['SDAY','OPENP','HIGHP','LOWP','CLOSEP','VOL']\n",
    "df=pd.DataFrame(data=res,columns=cols)\n",
    "df.head()"
   ]
  },
  {
   "cell_type": "code",
   "execution_count": 5,
   "metadata": {},
   "outputs": [
    {
     "data": {
      "text/html": [
       "<div>\n",
       "<style scoped>\n",
       "    .dataframe tbody tr th:only-of-type {\n",
       "        vertical-align: middle;\n",
       "    }\n",
       "\n",
       "    .dataframe tbody tr th {\n",
       "        vertical-align: top;\n",
       "    }\n",
       "\n",
       "    .dataframe thead th {\n",
       "        text-align: right;\n",
       "    }\n",
       "</style>\n",
       "<table border=\"1\" class=\"dataframe\">\n",
       "  <thead>\n",
       "    <tr style=\"text-align: right;\">\n",
       "      <th></th>\n",
       "      <th>SDAY</th>\n",
       "      <th>OPENP</th>\n",
       "      <th>HIGHP</th>\n",
       "      <th>LOWP</th>\n",
       "      <th>CLOSEP</th>\n",
       "      <th>VOL</th>\n",
       "    </tr>\n",
       "  </thead>\n",
       "  <tbody>\n",
       "    <tr>\n",
       "      <th>0</th>\n",
       "      <td>20200102</td>\n",
       "      <td>148600</td>\n",
       "      <td>148600</td>\n",
       "      <td>146400</td>\n",
       "      <td>146500</td>\n",
       "      <td>14920</td>\n",
       "    </tr>\n",
       "    <tr>\n",
       "      <th>1</th>\n",
       "      <td>20200103</td>\n",
       "      <td>148200</td>\n",
       "      <td>148200</td>\n",
       "      <td>145800</td>\n",
       "      <td>145800</td>\n",
       "      <td>16373</td>\n",
       "    </tr>\n",
       "    <tr>\n",
       "      <th>2</th>\n",
       "      <td>20200106</td>\n",
       "      <td>145700</td>\n",
       "      <td>146400</td>\n",
       "      <td>143000</td>\n",
       "      <td>143000</td>\n",
       "      <td>16978</td>\n",
       "    </tr>\n",
       "    <tr>\n",
       "      <th>3</th>\n",
       "      <td>20200107</td>\n",
       "      <td>142700</td>\n",
       "      <td>144400</td>\n",
       "      <td>141200</td>\n",
       "      <td>142000</td>\n",
       "      <td>12613</td>\n",
       "    </tr>\n",
       "    <tr>\n",
       "      <th>4</th>\n",
       "      <td>20200108</td>\n",
       "      <td>141800</td>\n",
       "      <td>141800</td>\n",
       "      <td>138100</td>\n",
       "      <td>139400</td>\n",
       "      <td>21254</td>\n",
       "    </tr>\n",
       "  </tbody>\n",
       "</table>\n",
       "</div>"
      ],
      "text/plain": [
       "       SDAY   OPENP   HIGHP    LOWP  CLOSEP    VOL\n",
       "0  20200102  148600  148600  146400  146500  14920\n",
       "1  20200103  148200  148200  145800  145800  16373\n",
       "2  20200106  145700  146400  143000  143000  16978\n",
       "3  20200107  142700  144400  141200  142000  12613\n",
       "4  20200108  141800  141800  138100  139400  21254"
      ]
     },
     "execution_count": 5,
     "metadata": {},
     "output_type": "execute_result"
    }
   ],
   "source": [
    "#GS홈쇼핑(동종업계비교)\n",
    "whr='where SDAY>20200101 and SCODE=\"028150\" order by SDAY  asc limit 250'\n",
    "res=selData(whr)\n",
    "cols=['SDAY','OPENP','HIGHP','LOWP','CLOSEP','VOL']\n",
    "dfgs=pd.DataFrame(data=res,columns=cols)\n",
    "dfgs.head()"
   ]
  },
  {
   "cell_type": "code",
   "execution_count": 6,
   "metadata": {},
   "outputs": [
    {
     "data": {
      "image/png": "[encoded data removed]",
      "text/plain": [
       "<Figure size 432x288 with 1 Axes>"
      ]
     },
     "metadata": {
      "needs_background": "light"
     },
     "output_type": "display_data"
    }
   ],
   "source": [
    "sels=['CLOSEP','OPENP']\n",
    "df[sels].plot()\n",
    "#plt.xlim(50,75)\n",
    "#plt.ylim(50000,70000)\n",
    "plt.show()"
   ]
  },
  {
   "cell_type": "markdown",
   "metadata": {},
   "source": [
    "# 이동평균선\n",
    "* 주가 기술분석\n",
    "* 단기 이평선(5일 이평선) 장기 이평선(30일 이평선)을 설정\n",
    "* 장단기 이평선을 분석\n",
    "* 골든크로스 (단기 이평선이 장기 이평선을 아래서 위로 통과)\n",
    "* 데드크로스 (단기 이평선이 장기 이평선을 위에서 아래로 통과)\n",
    "* 마케팅의 시장평가 지점을 지정"
   ]
  },
  {
   "cell_type": "code",
   "execution_count": 7,
   "metadata": {},
   "outputs": [],
   "source": [
    "def makeMV(baseday=5,basedata=df['CLOSEP']):\n",
    "    res=[]\n",
    "    # 초기화 하기\n",
    "    for i in range(baseday-1):\n",
    "        res.append(0)\n",
    "    # 이동평균 데이터 만들기\n",
    "    n=len(basedata)-(baseday-1)\n",
    "    print(\"총 데이터수:\",len(basedata),\"초기화 안되고 채워야할 부분:\",n)\n",
    "    for i in range(n):\n",
    "        mvdata=np.average(basedata[i:i+baseday])\n",
    "        res.append(mvdata)\n",
    "    return res"
   ]
  },
  {
   "cell_type": "code",
   "execution_count": 8,
   "metadata": {},
   "outputs": [
    {
     "name": "stdout",
     "output_type": "stream",
     "text": [
      "총 데이터수: 178 초기화 안되고 채워야할 부분: 174\n",
      "총 데이터수: 178 초기화 안되고 채워야할 부분: 149\n"
     ]
    },
    {
     "data": {
      "text/html": [
       "<div>\n",
       "<style scoped>\n",
       "    .dataframe tbody tr th:only-of-type {\n",
       "        vertical-align: middle;\n",
       "    }\n",
       "\n",
       "    .dataframe tbody tr th {\n",
       "        vertical-align: top;\n",
       "    }\n",
       "\n",
       "    .dataframe thead th {\n",
       "        text-align: right;\n",
       "    }\n",
       "</style>\n",
       "<table border=\"1\" class=\"dataframe\">\n",
       "  <thead>\n",
       "    <tr style=\"text-align: right;\">\n",
       "      <th></th>\n",
       "      <th>SDAY</th>\n",
       "      <th>OPENP</th>\n",
       "      <th>HIGHP</th>\n",
       "      <th>LOWP</th>\n",
       "      <th>CLOSEP</th>\n",
       "      <th>VOL</th>\n",
       "      <th>MV5</th>\n",
       "      <th>MV30</th>\n",
       "      <th>gsClose</th>\n",
       "    </tr>\n",
       "  </thead>\n",
       "  <tbody>\n",
       "    <tr>\n",
       "      <th>0</th>\n",
       "      <td>20200102</td>\n",
       "      <td>159300</td>\n",
       "      <td>159400</td>\n",
       "      <td>151000</td>\n",
       "      <td>155600</td>\n",
       "      <td>125376</td>\n",
       "      <td>0.0</td>\n",
       "      <td>0.0</td>\n",
       "      <td>146500</td>\n",
       "    </tr>\n",
       "    <tr>\n",
       "      <th>1</th>\n",
       "      <td>20200103</td>\n",
       "      <td>155800</td>\n",
       "      <td>157500</td>\n",
       "      <td>153100</td>\n",
       "      <td>154700</td>\n",
       "      <td>98855</td>\n",
       "      <td>0.0</td>\n",
       "      <td>0.0</td>\n",
       "      <td>145800</td>\n",
       "    </tr>\n",
       "    <tr>\n",
       "      <th>2</th>\n",
       "      <td>20200106</td>\n",
       "      <td>153000</td>\n",
       "      <td>153900</td>\n",
       "      <td>150200</td>\n",
       "      <td>150200</td>\n",
       "      <td>78272</td>\n",
       "      <td>0.0</td>\n",
       "      <td>0.0</td>\n",
       "      <td>143000</td>\n",
       "    </tr>\n",
       "    <tr>\n",
       "      <th>3</th>\n",
       "      <td>20200107</td>\n",
       "      <td>150300</td>\n",
       "      <td>154600</td>\n",
       "      <td>150300</td>\n",
       "      <td>154600</td>\n",
       "      <td>65431</td>\n",
       "      <td>0.0</td>\n",
       "      <td>0.0</td>\n",
       "      <td>142000</td>\n",
       "    </tr>\n",
       "    <tr>\n",
       "      <th>4</th>\n",
       "      <td>20200108</td>\n",
       "      <td>152700</td>\n",
       "      <td>153200</td>\n",
       "      <td>150700</td>\n",
       "      <td>151300</td>\n",
       "      <td>75841</td>\n",
       "      <td>153280.0</td>\n",
       "      <td>0.0</td>\n",
       "      <td>139400</td>\n",
       "    </tr>\n",
       "  </tbody>\n",
       "</table>\n",
       "</div>"
      ],
      "text/plain": [
       "       SDAY   OPENP   HIGHP    LOWP  CLOSEP     VOL       MV5  MV30  gsClose\n",
       "0  20200102  159300  159400  151000  155600  125376       0.0   0.0   146500\n",
       "1  20200103  155800  157500  153100  154700   98855       0.0   0.0   145800\n",
       "2  20200106  153000  153900  150200  150200   78272       0.0   0.0   143000\n",
       "3  20200107  150300  154600  150300  154600   65431       0.0   0.0   142000\n",
       "4  20200108  152700  153200  150700  151300   75841  153280.0   0.0   139400"
      ]
     },
     "execution_count": 8,
     "metadata": {},
     "output_type": "execute_result"
    }
   ],
   "source": [
    "df['MV5']=makeMV(5)\n",
    "df['MV30']=makeMV(30)\n",
    "df['gsClose']=dfgs['CLOSEP']\n",
    "df.head()"
   ]
  },
  {
   "cell_type": "markdown",
   "metadata": {},
   "source": [
    "# 경쟁사 분석\n",
    "* 동종 유사 주가의 경쟁사 분석을 통해 시장기준 주가 분석"
   ]
  },
  {
   "cell_type": "code",
   "execution_count": 9,
   "metadata": {},
   "outputs": [
    {
     "data": {
      "image/png": "[encoded data removed]",
      "text/plain": [
       "<Figure size 432x288 with 1 Axes>"
      ]
     },
     "metadata": {
      "needs_background": "light"
     },
     "output_type": "display_data"
    }
   ],
   "source": [
    "df[['CLOSEP','gsClose']].plot()\n",
    "#plt.xlim(0,10)\n",
    "#plt.ylim(150000,170000)\n",
    "plt.legend()\n",
    "plt.show()"
   ]
  },
  {
   "cell_type": "markdown",
   "metadata": {},
   "source": [
    "### 장단기 크로스 포인트 분석\n",
    "* 주가 장단기 이평선에 관한 크로스 포인트 분석\n",
    "* 이를 통해 시장에 반영된 마케팅 기준선을 부여"
   ]
  },
  {
   "cell_type": "code",
   "execution_count": 10,
   "metadata": {},
   "outputs": [
    {
     "data": {
      "image/png": "[encoded data removed]",
      "text/plain": [
       "<Figure size 432x288 with 1 Axes>"
      ]
     },
     "metadata": {
      "needs_background": "light"
     },
     "output_type": "display_data"
    }
   ],
   "source": [
    "df[['MV5','MV30']].plot()\n",
    "#plt.xlim(0,10)\n",
    "#plt.ylim(150000,170000)\n",
    "plt.legend()\n",
    "plt.show()"
   ]
  },
  {
   "cell_type": "code",
   "execution_count": 11,
   "metadata": {},
   "outputs": [
    {
     "data": {
      "text/html": [
       "<div>\n",
       "<style scoped>\n",
       "    .dataframe tbody tr th:only-of-type {\n",
       "        vertical-align: middle;\n",
       "    }\n",
       "\n",
       "    .dataframe tbody tr th {\n",
       "        vertical-align: top;\n",
       "    }\n",
       "\n",
       "    .dataframe thead th {\n",
       "        text-align: right;\n",
       "    }\n",
       "</style>\n",
       "<table border=\"1\" class=\"dataframe\">\n",
       "  <thead>\n",
       "    <tr style=\"text-align: right;\">\n",
       "      <th></th>\n",
       "      <th>SDAY</th>\n",
       "      <th>OPENP</th>\n",
       "      <th>HIGHP</th>\n",
       "      <th>LOWP</th>\n",
       "      <th>CLOSEP</th>\n",
       "      <th>VOL</th>\n",
       "      <th>MV5</th>\n",
       "      <th>MV30</th>\n",
       "      <th>gsClose</th>\n",
       "      <th>holdPos</th>\n",
       "    </tr>\n",
       "  </thead>\n",
       "  <tbody>\n",
       "    <tr>\n",
       "      <th>0</th>\n",
       "      <td>20200102</td>\n",
       "      <td>159300</td>\n",
       "      <td>159400</td>\n",
       "      <td>151000</td>\n",
       "      <td>155600</td>\n",
       "      <td>125376</td>\n",
       "      <td>0.0</td>\n",
       "      <td>0.0</td>\n",
       "      <td>146500</td>\n",
       "      <td>0</td>\n",
       "    </tr>\n",
       "    <tr>\n",
       "      <th>1</th>\n",
       "      <td>20200103</td>\n",
       "      <td>155800</td>\n",
       "      <td>157500</td>\n",
       "      <td>153100</td>\n",
       "      <td>154700</td>\n",
       "      <td>98855</td>\n",
       "      <td>0.0</td>\n",
       "      <td>0.0</td>\n",
       "      <td>145800</td>\n",
       "      <td>0</td>\n",
       "    </tr>\n",
       "    <tr>\n",
       "      <th>2</th>\n",
       "      <td>20200106</td>\n",
       "      <td>153000</td>\n",
       "      <td>153900</td>\n",
       "      <td>150200</td>\n",
       "      <td>150200</td>\n",
       "      <td>78272</td>\n",
       "      <td>0.0</td>\n",
       "      <td>0.0</td>\n",
       "      <td>143000</td>\n",
       "      <td>0</td>\n",
       "    </tr>\n",
       "    <tr>\n",
       "      <th>3</th>\n",
       "      <td>20200107</td>\n",
       "      <td>150300</td>\n",
       "      <td>154600</td>\n",
       "      <td>150300</td>\n",
       "      <td>154600</td>\n",
       "      <td>65431</td>\n",
       "      <td>0.0</td>\n",
       "      <td>0.0</td>\n",
       "      <td>142000</td>\n",
       "      <td>0</td>\n",
       "    </tr>\n",
       "    <tr>\n",
       "      <th>4</th>\n",
       "      <td>20200108</td>\n",
       "      <td>152700</td>\n",
       "      <td>153200</td>\n",
       "      <td>150700</td>\n",
       "      <td>151300</td>\n",
       "      <td>75841</td>\n",
       "      <td>153280.0</td>\n",
       "      <td>0.0</td>\n",
       "      <td>139400</td>\n",
       "      <td>0</td>\n",
       "    </tr>\n",
       "  </tbody>\n",
       "</table>\n",
       "</div>"
      ],
      "text/plain": [
       "       SDAY   OPENP   HIGHP    LOWP  CLOSEP     VOL       MV5  MV30  gsClose  \\\n",
       "0  20200102  159300  159400  151000  155600  125376       0.0   0.0   146500   \n",
       "1  20200103  155800  157500  153100  154700   98855       0.0   0.0   145800   \n",
       "2  20200106  153000  153900  150200  150200   78272       0.0   0.0   143000   \n",
       "3  20200107  150300  154600  150300  154600   65431       0.0   0.0   142000   \n",
       "4  20200108  152700  153200  150700  151300   75841  153280.0   0.0   139400   \n",
       "\n",
       "   holdPos  \n",
       "0        0  \n",
       "1        0  \n",
       "2        0  \n",
       "3        0  \n",
       "4        0  "
      ]
     },
     "execution_count": 11,
     "metadata": {},
     "output_type": "execute_result"
    }
   ],
   "source": [
    "short=df['MV5']\n",
    "long=df['MV30']\n",
    "res=[]\n",
    "longday=30\n",
    "for i in range(longday):\n",
    "    res.append(0)\n",
    "    \n",
    "for i in range(longday,len(short)):\n",
    "    if(short[i]>long[i]):\n",
    "        res.append(1)\n",
    "    else:\n",
    "        res.append(-1)\n",
    "df['holdPos']=res\n",
    "df.head()\n"
   ]
  },
  {
   "cell_type": "code",
   "execution_count": 12,
   "metadata": {},
   "outputs": [
    {
     "data": {
      "text/plain": [
       "[<matplotlib.lines.Line2D at 0x22a454ef2b0>]"
      ]
     },
     "execution_count": 12,
     "metadata": {},
     "output_type": "execute_result"
    },
    {
     "name": "stderr",
     "output_type": "stream",
     "text": [
      "C:\\Users\\lg\\anaconda3\\lib\\site-packages\\matplotlib\\backends\\backend_agg.py:214: RuntimeWarning: Glyph 8722 missing from current font.\n",
      "  font.set_text(s, 0.0, flags=flags)\n",
      "C:\\Users\\lg\\anaconda3\\lib\\site-packages\\matplotlib\\backends\\backend_agg.py:183: RuntimeWarning: Glyph 8722 missing from current font.\n",
      "  font.set_text(s, 0, flags=flags)\n"
     ]
    },
    {
     "data": {
      "image/png": "[encoded data removed]",
      "text/plain": [
       "<Figure size 432x288 with 1 Axes>"
      ]
     },
     "metadata": {
      "needs_background": "light"
     },
     "output_type": "display_data"
    }
   ],
   "source": [
    "plt.plot(res)"
   ]
  },
  {
   "cell_type": "markdown",
   "metadata": {},
   "source": [
    "#### 성장동력과 크로스포인트와의 관계\n",
    "* 단기 성장성(성장비율)과 장단기 주가 모멘텀 분석\n",
    "* 실질적 주가에 영향을 주는 마케팅 포인트 지점 획득"
   ]
  },
  {
   "cell_type": "code",
   "execution_count": 13,
   "metadata": {},
   "outputs": [
    {
     "name": "stderr",
     "output_type": "stream",
     "text": [
      "<ipython-input-13-d6d3f36f37c5>:4: RuntimeWarning: invalid value encountered in double_scalars\n",
      "  c=((baseData[i]/baseData[i-1])-1)*20\n",
      "<ipython-input-13-d6d3f36f37c5>:4: RuntimeWarning: divide by zero encountered in double_scalars\n",
      "  c=((baseData[i]/baseData[i-1])-1)*20\n",
      "C:\\Users\\lg\\anaconda3\\lib\\site-packages\\matplotlib\\backends\\backend_agg.py:214: RuntimeWarning: Glyph 8722 missing from current font.\n",
      "  font.set_text(s, 0.0, flags=flags)\n",
      "C:\\Users\\lg\\anaconda3\\lib\\site-packages\\matplotlib\\backends\\backend_agg.py:183: RuntimeWarning: Glyph 8722 missing from current font.\n",
      "  font.set_text(s, 0, flags=flags)\n"
     ]
    },
    {
     "data": {
      "image/png": "[encoded data removed]",
      "text/plain": [
       "<Figure size 432x288 with 1 Axes>"
      ]
     },
     "metadata": {
      "needs_background": "light"
     },
     "output_type": "display_data"
    }
   ],
   "source": [
    "baseData=df['MV5']\n",
    "res=[1]\n",
    "for i in range(1,len(baseData)):\n",
    "    c=((baseData[i]/baseData[i-1])-1)*20\n",
    "    res.append(c)\n",
    "df['holdPos'].plot()\n",
    "plt.plot(res)\n",
    "plt.plot([0,175],[0,0])\n",
    "plt.xlim(30,175)\n",
    "plt.ylim(-2,2)\n",
    "plt.show()"
   ]
  },
  {
   "cell_type": "markdown",
   "metadata": {},
   "source": [
    "### 캔들차트 분석\n",
    "* 시가 고가 저가 종가 를 분석하여 마케팅의 적시적 효과를 보기 위함\n",
    "* <img  src=\"candle_chart.png\"  />"
   ]
  },
  {
   "cell_type": "code",
   "execution_count": null,
   "metadata": {},
   "outputs": [],
   "source": [
    "#1.\n",
    "!pip install mplfinance\n",
    "#2.\n",
    "!pip install mpl_finance\n",
    "!pip install --upgrade mplfinance"
   ]
  },
  {
   "cell_type": "code",
   "execution_count": 15,
   "metadata": {},
   "outputs": [
    {
     "name": "stderr",
     "output_type": "stream",
     "text": [
      "C:\\Users\\lg\\anaconda3\\lib\\site-packages\\mpl_finance.py:16: DeprecationWarning: \n",
      "\n",
      "  =================================================================\n",
      "\n",
      "   WARNING: `mpl_finance` is deprecated:\n",
      "\n",
      "    Please use `mplfinance` instead (no hyphen, no underscore).\n",
      "\n",
      "    To install: `pip install --upgrade mplfinance` \n",
      "\n",
      "   For more information, see: https://pypi.org/project/mplfinance/\n",
      "\n",
      "  =================================================================\n",
      "\n",
      "  __warnings.warn('\\n\\n  ================================================================='+\n"
     ]
    }
   ],
   "source": [
    "from mpl_finance import candlestick_ohlc"
   ]
  },
  {
   "cell_type": "code",
   "execution_count": 16,
   "metadata": {},
   "outputs": [
    {
     "data": {
      "text/plain": [
       "[200413,\n",
       " 200417,\n",
       " 200422,\n",
       " 200427,\n",
       " 200504,\n",
       " 200508,\n",
       " 200513,\n",
       " 200518,\n",
       " 200521,\n",
       " 200526,\n",
       " 200529,\n",
       " 200603,\n",
       " 200608,\n",
       " 200611,\n",
       " 200616,\n",
       " 200619,\n",
       " 200624]"
      ]
     },
     "execution_count": 16,
     "metadata": {},
     "output_type": "execute_result"
    }
   ],
   "source": [
    "#OPENP\tHIGHP\tLOWP\tCLOSEP\tVOL\t\n",
    "lMin=70\n",
    "lMax=120\n",
    "cols=['OPENP','HIGHP','LOWP','CLOSEP']\n",
    "cdata=df[cols].values[lMin:lMax]\n",
    "voldata=df['VOL'].values[lMin:lMax]\n",
    "days=df['SDAY'].values[lMin:lMax]\n",
    "gmv5=df['MV5'].values[lMin:lMax] # 5일 이평성\n",
    "gmv30=df['MV30'].values[lMin:lMax] # 30일 이평선\n",
    "xtic=np.arange(0,len(days),step=3)\n",
    "xdays=[days[i]-20000000 for i in xtic]\n",
    "xdays"
   ]
  },
  {
   "cell_type": "code",
   "execution_count": 17,
   "metadata": {},
   "outputs": [
    {
     "data": {
      "image/png": "[encoded data removed]",
      "text/plain": [
       "<Figure size 576x360 with 2 Axes>"
      ]
     },
     "metadata": {
      "needs_background": "light"
     },
     "output_type": "display_data"
    }
   ],
   "source": [
    "# 그림비율\n",
    "fig=plt.figure(figsize=(8,5))\n",
    "# 그리드 2행 1열짜리 높이비율 3:1로 생성 \n",
    "gs=gridspec.GridSpec(2,1,height_ratios=[3,1])\n",
    "axis=[]\n",
    "#축 선정\n",
    "axis.append(plt.subplot(gs[0]))\n",
    "# axis[0]을 그리드 공유\n",
    "axis.append(plt.subplot(gs[1],sharex=axis[0]))\n",
    "# 공유x축 표시 없애기\n",
    "axis[0].get_xaxis().set_visible(False)\n",
    "# 캔들스틱용 데이터 만들기\n",
    "x=np.arange(len(cdata))\n",
    "xa= np.reshape(x,(-1,1))\n",
    "ohlc=np.hstack((xa,cdata))\n",
    "#캔들스틱 그리기\n",
    "candlestick_ohlc(axis[0], ohlc,width=0.5,colorup='r',colordown='b')\n",
    "#거래량 그래프\n",
    "axis[1].bar(x,voldata,color='g',width=0.5)\n",
    "plt.title(\"CJ ENM #2 주가 영향 분석\")\n",
    "plt.xticks(xtic,xdays,rotation=45)\n",
    "axis[0].plot(gmv5, color='orange', label=\"5일이평선\")\n",
    "axis[0].plot(gmv30, color='gold', label=\"30일 이평선\")\n",
    "axis[0].legend()\n",
    "plt.tight_layout()\n",
    "plt.show()"
   ]
  },
  {
   "cell_type": "code",
   "execution_count": null,
   "metadata": {},
   "outputs": [],
   "source": []
  }
 ],
 "metadata": {
  "kernelspec": {
   "display_name": "Python 3",
   "language": "python",
   "name": "python3"
  },
  "language_info": {
   "codemirror_mode": {
    "name": "ipython",
    "version": 3
   },
   "file_extension": ".py",
   "mimetype": "text/x-python",
   "name": "python",
   "nbconvert_exporter": "python",
   "pygments_lexer": "ipython3",
   "version": "3.8.3"
  }
 },
 "nbformat": 4,
 "nbformat_minor": 4
}
