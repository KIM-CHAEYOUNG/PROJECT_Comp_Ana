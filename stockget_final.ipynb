{
 "cells": [
  {
   "cell_type": "code",
   "execution_count": 1,
   "metadata": {},
   "outputs": [],
   "source": [
    "# 기본 패키지\n",
    "import sqlite3\n",
    "import requests #배부 source를 가져오는 라이브러리\n",
    "from bs4 import BeautifulSoup #\n",
    "import numpy as np\n",
    "import pandas as pd"
   ]
  },
  {
   "cell_type": "code",
   "execution_count": 2,
   "metadata": {},
   "outputs": [],
   "source": [
    "# 함수화 \n",
    "# 반복사용할 부분 블럭화\n",
    "url=\"https://finance.naver.com/item/sise_day.nhn?code=069960&page=1\"\n",
    "def stockGet(url):\n",
    "    src=requests.get(url)\n",
    "    result=src.content.strip()\n",
    "    html=BeautifulSoup(result, 'html.parser')\n",
    "    tgts=html.select('table.type2 tr')\n",
    "    res=[]\n",
    "\n",
    "    for tgt in tgts:\n",
    "        if (tgt.select('td .p10')):\n",
    "            sday=tgt.select('td .p10')[0].text.replace(\".\", \"\")\n",
    "        \n",
    "            endp=tgt.select('td.num')[0].text.replace(\",\", \"\")\n",
    "            startp=tgt.select('td.num')[2].text.replace(\",\", \"\")\n",
    "            maxp=tgt.select('td.num')[3].text.replace(\",\", \"\")\n",
    "            minp=tgt.select('td.num')[4].text.replace(\",\", \"\")\n",
    "            vol=tgt.select('td.num')[5].text.replace(\",\", \"\")\n",
    "            #종가/전일비/시가/고가/저가\n",
    "            res.append((sday, endp, startp, maxp, minp, endp, vol))\n",
    "    return res"
   ]
  },
  {
   "cell_type": "code",
   "execution_count": 3,
   "metadata": {},
   "outputs": [
    {
     "data": {
      "text/plain": [
       "[('20200915', '57400', '57500', '58000', '56600', '57400', '219218'),\n",
       " ('20200914', '57200', '57000', '58400', '56700', '57200', '324102'),\n",
       " ('20200911', '56300', '56400', '57400', '56200', '56300', '269437'),\n",
       " ('20200910', '56400', '56500', '57200', '55900', '56400', '262036'),\n",
       " ('20200909', '56000', '55900', '56600', '55400', '56000', '125147'),\n",
       " ('20200908', '56400', '56800', '57100', '56300', '56400', '152605'),\n",
       " ('20200907', '56300', '56100', '57100', '55600', '56300', '174472'),\n",
       " ('20200904', '55800', '55300', '56200', '55100', '55800', '194702'),\n",
       " ('20200903', '56500', '57000', '58000', '56500', '56500', '287154'),\n",
       " ('20200902', '56500', '56100', '57800', '55300', '56500', '370906')]"
      ]
     },
     "execution_count": 3,
     "metadata": {},
     "output_type": "execute_result"
    }
   ],
   "source": [
    "url=\"https://finance.naver.com/item/sise_day.nhn?code=069960&page=1\"\n",
    "stockGet(url)"
   ]
  },
  {
   "cell_type": "code",
   "execution_count": 4,
   "metadata": {},
   "outputs": [],
   "source": [
    "dbname='NaverStock.db'\n",
    "def addData(data):\n",
    "    with sqlite3.connect(dbname) as conn:\n",
    "        cur=conn.cursor()\n",
    "        sql = 'insert into StockDay \\\n",
    "        (SIDX,SCODE,SCOMP,SDAY,OPENP,HIGHP,LOWP,CLOSEP,VOL) \\\n",
    "        values (?,?,?,?,?,?,?,?,?)'\n",
    "        ##### data=[1001,60000,' 신세계','20200830',30,60,70,50,250]\n",
    "        cur.execute(sql,data)\n",
    "        conn.commit()\n",
    "        cur.close()"
   ]
  },
  {
   "cell_type": "code",
   "execution_count": 5,
   "metadata": {},
   "outputs": [],
   "source": [
    "dbname='NaverStock.db'\n",
    "def selData(whr=' where SIDX=0'):\n",
    "    with sqlite3.connect(dbname) as conn:\n",
    "        cur=conn.cursor()\n",
    "        sql='select SIDX from StockDay '+whr\n",
    "        cur.execute(sql)\n",
    "        rows=cur.fetchall()\n",
    "        cur.close()\n",
    "    return rows"
   ]
  },
  {
   "cell_type": "code",
   "execution_count": 6,
   "metadata": {},
   "outputs": [
    {
     "name": "stdout",
     "output_type": "stream",
     "text": [
      "##############################\n",
      "https://finance.naver.com/item/sise_day.nhn?code=069960&page=1\n",
      "##############################\n",
      "https://finance.naver.com/item/sise_day.nhn?code=069960&page=2\n"
     ]
    }
   ],
   "source": [
    "urlsrc=\"https://finance.naver.com/item/sise_day.nhn?code={0}&page={1}\"\n",
    "sCode='069960';\n",
    "sComp='현대백화점'\n",
    "for i in range(1,3):\n",
    "    print('#'*30)\n",
    "    url=urlsrc.format(sCode,i)\n",
    "    print(url)\n",
    "    rs=stockGet(url)\n",
    "    for r in rs:\n",
    "        sidx=r[0]+sCode\n",
    "        data=[sidx, sCode, sComp, r[0],r[1],r[2],r[3],r[4],r[5]]\n",
    "        selData('where SIDX='+sidx)\n",
    "        preData=selData(' where SIDX='+sidx)\n",
    "        if(preData):\n",
    "            print(\"중복데이터 입니다\", sidx)\n",
    "        else:\n",
    "            addData(data)"
   ]
  },
  {
   "cell_type": "code",
   "execution_count": 12,
   "metadata": {},
   "outputs": [],
   "source": [
    "def MyCrawl(comp=('현대백화점','069960'),sp=1,ep=2):\n",
    "    sCode=comp[1]\n",
    "    sComp=comp[0] #~441\n",
    "    urlsrc='https://finance.naver.com/item/sise_day.nhn?code={0}&page={1}'\n",
    "    for i in range(1,5):\n",
    "        print(\"#\"*30)\n",
    "        url=urlsrc.format(sCode,i)\n",
    "        print(url)\n",
    "        # 데이터 10개 가져오기\n",
    "        rs=stockGet(url)\n",
    "\n",
    "        for r in rs:\n",
    "            #데이터별 고유코드만들기\n",
    "            sidx=r[0]+sCode\n",
    "            ##### data=[1001,60000,' 신세계','20200830',30,60,70,50,250]\n",
    "            data=[sidx,sCode,sComp,r[0],r[1],r[2],r[3],r[4],r[5]]\n",
    "            #데이터 입력하기 중복데이터 확인\n",
    "            preData=selData(' where SIDX='+sidx)\n",
    "            if(preData):\n",
    "                print(\"중복데이터 입니다.\",preData)\n",
    "            else:\n",
    "                #print(r)\n",
    "                addData(data)"
   ]
  },
  {
   "cell_type": "code",
   "execution_count": 13,
   "metadata": {},
   "outputs": [
    {
     "name": "stdout",
     "output_type": "stream",
     "text": [
      "##############################\n",
      "https://finance.naver.com/item/sise_day.nhn?code=069960&page=1\n",
      "중복데이터 입니다. [(20200915069960,)]\n",
      "중복데이터 입니다. [(20200914069960,)]\n",
      "중복데이터 입니다. [(20200911069960,)]\n",
      "중복데이터 입니다. [(20200910069960,)]\n",
      "중복데이터 입니다. [(20200909069960,)]\n",
      "중복데이터 입니다. [(20200908069960,)]\n",
      "중복데이터 입니다. [(20200907069960,)]\n",
      "중복데이터 입니다. [(20200904069960,)]\n",
      "중복데이터 입니다. [(20200903069960,)]\n",
      "중복데이터 입니다. [(20200902069960,)]\n",
      "##############################\n",
      "https://finance.naver.com/item/sise_day.nhn?code=069960&page=2\n",
      "중복데이터 입니다. [(20200901069960,)]\n",
      "중복데이터 입니다. [(20200831069960,)]\n",
      "중복데이터 입니다. [(20200828069960,)]\n",
      "중복데이터 입니다. [(20200827069960,)]\n",
      "중복데이터 입니다. [(20200826069960,)]\n",
      "중복데이터 입니다. [(20200825069960,)]\n",
      "중복데이터 입니다. [(20200824069960,)]\n",
      "중복데이터 입니다. [(20200821069960,)]\n",
      "중복데이터 입니다. [(20200820069960,)]\n",
      "중복데이터 입니다. [(20200819069960,)]\n",
      "##############################\n",
      "https://finance.naver.com/item/sise_day.nhn?code=069960&page=3\n",
      "##############################\n",
      "https://finance.naver.com/item/sise_day.nhn?code=069960&page=4\n"
     ]
    }
   ],
   "source": [
    "complist=[(\"현대백화점\",\"069960\"),(\"영원무역\",\"111770\"),\\\n",
    "         (\"SK네트웍스\",\"001740\"),(\"신세계인터네셔널\",\"031430\")]\n",
    "MyCrawl(complist[0],1,2)"
   ]
  },
  {
   "cell_type": "code",
   "execution_count": 10,
   "metadata": {},
   "outputs": [
    {
     "name": "stdout",
     "output_type": "stream",
     "text": [
      "##############################\n",
      "https://finance.naver.com/item/sise_day.nhn?code=111770&page=1\n"
     ]
    }
   ],
   "source": [
    "MyCrawl(complist[1],1,2)"
   ]
  },
  {
   "cell_type": "code",
   "execution_count": 15,
   "metadata": {},
   "outputs": [],
   "source": [
    "def MyCrawl(comp=('현대백화점','069960'),sp=1,ep=2):\n",
    "    sCode=comp[1]\n",
    "    sComp=comp[0] #~441\n",
    "    urlsrc='https://finance.naver.com/item/sise_day.nhn?code={0}&page={1}'\n",
    "    for i in range(sp,ep):\n",
    "        print(\"#\"*30)\n",
    "        url=urlsrc.format(sCode,i)\n",
    "        print(url)\n",
    "        # 데이터 10개 가져오기\n",
    "        rs=stockGet(url)\n",
    "\n",
    "        for r in rs:\n",
    "            #데이터별 고유코드만들기\n",
    "            sidx=r[0]+sCode\n",
    "            ##### data=[1001,60000,' 신세계','20200830',30,60,70,50,250]\n",
    "            data=[sidx,sCode,sComp,r[0],r[1],r[2],r[3],r[4],r[5]]\n",
    "            #데이터 입력하기 중복데이터 확인\n",
    "            preData=selData(' where SIDX='+sidx)\n",
    "            if(preData):\n",
    "                print(\"중복데이터 입니다.\",preData)\n",
    "            else:\n",
    "                #print(r)\n",
    "                addData(data)"
   ]
  },
  {
   "cell_type": "code",
   "execution_count": 17,
   "metadata": {},
   "outputs": [
    {
     "name": "stdout",
     "output_type": "stream",
     "text": [
      "##############################\n",
      "https://finance.naver.com/item/sise_day.nhn?code=069960&page=1\n",
      "중복데이터 입니다. [(20200915069960,)]\n",
      "중복데이터 입니다. [(20200914069960,)]\n",
      "중복데이터 입니다. [(20200911069960,)]\n",
      "중복데이터 입니다. [(20200910069960,)]\n",
      "중복데이터 입니다. [(20200909069960,)]\n",
      "중복데이터 입니다. [(20200908069960,)]\n",
      "중복데이터 입니다. [(20200907069960,)]\n",
      "중복데이터 입니다. [(20200904069960,)]\n",
      "중복데이터 입니다. [(20200903069960,)]\n",
      "중복데이터 입니다. [(20200902069960,)]\n",
      "##############################\n",
      "https://finance.naver.com/item/sise_day.nhn?code=069960&page=2\n",
      "중복데이터 입니다. [(20200901069960,)]\n",
      "중복데이터 입니다. [(20200831069960,)]\n",
      "중복데이터 입니다. [(20200828069960,)]\n",
      "중복데이터 입니다. [(20200827069960,)]\n",
      "중복데이터 입니다. [(20200826069960,)]\n",
      "중복데이터 입니다. [(20200825069960,)]\n",
      "중복데이터 입니다. [(20200824069960,)]\n",
      "중복데이터 입니다. [(20200821069960,)]\n",
      "중복데이터 입니다. [(20200820069960,)]\n",
      "중복데이터 입니다. [(20200819069960,)]\n",
      "##############################\n",
      "https://finance.naver.com/item/sise_day.nhn?code=069960&page=3\n",
      "중복데이터 입니다. [(20200818069960,)]\n",
      "중복데이터 입니다. [(20200814069960,)]\n",
      "중복데이터 입니다. [(20200813069960,)]\n",
      "중복데이터 입니다. [(20200812069960,)]\n",
      "중복데이터 입니다. [(20200811069960,)]\n",
      "중복데이터 입니다. [(20200810069960,)]\n",
      "중복데이터 입니다. [(20200807069960,)]\n",
      "중복데이터 입니다. [(20200806069960,)]\n",
      "중복데이터 입니다. [(20200805069960,)]\n",
      "중복데이터 입니다. [(20200804069960,)]\n",
      "##############################\n",
      "https://finance.naver.com/item/sise_day.nhn?code=069960&page=4\n",
      "중복데이터 입니다. [(20200803069960,)]\n",
      "중복데이터 입니다. [(20200731069960,)]\n",
      "중복데이터 입니다. [(20200730069960,)]\n",
      "중복데이터 입니다. [(20200729069960,)]\n",
      "중복데이터 입니다. [(20200728069960,)]\n",
      "중복데이터 입니다. [(20200727069960,)]\n",
      "중복데이터 입니다. [(20200724069960,)]\n",
      "중복데이터 입니다. [(20200723069960,)]\n",
      "중복데이터 입니다. [(20200722069960,)]\n",
      "중복데이터 입니다. [(20200721069960,)]\n",
      "##############################\n",
      "https://finance.naver.com/item/sise_day.nhn?code=069960&page=5\n",
      "##############################\n",
      "https://finance.naver.com/item/sise_day.nhn?code=069960&page=6\n",
      "##############################\n",
      "https://finance.naver.com/item/sise_day.nhn?code=069960&page=7\n"
     ]
    }
   ],
   "source": [
    "MyCrawl(complist[0],1,8)"
   ]
  },
  {
   "cell_type": "code",
   "execution_count": 18,
   "metadata": {},
   "outputs": [
    {
     "name": "stdout",
     "output_type": "stream",
     "text": [
      "##############################\n",
      "https://finance.naver.com/item/sise_day.nhn?code=111770&page=1\n",
      "중복데이터 입니다. [(20200915111770,)]\n",
      "중복데이터 입니다. [(20200914111770,)]\n",
      "중복데이터 입니다. [(20200911111770,)]\n",
      "중복데이터 입니다. [(20200910111770,)]\n",
      "중복데이터 입니다. [(20200909111770,)]\n",
      "중복데이터 입니다. [(20200908111770,)]\n",
      "중복데이터 입니다. [(20200907111770,)]\n",
      "중복데이터 입니다. [(20200904111770,)]\n",
      "중복데이터 입니다. [(20200903111770,)]\n",
      "중복데이터 입니다. [(20200902111770,)]\n",
      "##############################\n",
      "https://finance.naver.com/item/sise_day.nhn?code=111770&page=2\n",
      "##############################\n",
      "https://finance.naver.com/item/sise_day.nhn?code=111770&page=3\n",
      "##############################\n",
      "https://finance.naver.com/item/sise_day.nhn?code=111770&page=4\n",
      "##############################\n",
      "https://finance.naver.com/item/sise_day.nhn?code=111770&page=5\n",
      "##############################\n",
      "https://finance.naver.com/item/sise_day.nhn?code=111770&page=6\n",
      "##############################\n",
      "https://finance.naver.com/item/sise_day.nhn?code=111770&page=7\n"
     ]
    }
   ],
   "source": [
    "MyCrawl(complist[1],1,8)"
   ]
  },
  {
   "cell_type": "code",
   "execution_count": 19,
   "metadata": {},
   "outputs": [
    {
     "name": "stdout",
     "output_type": "stream",
     "text": [
      "##############################\n",
      "https://finance.naver.com/item/sise_day.nhn?code=001740&page=1\n",
      "##############################\n",
      "https://finance.naver.com/item/sise_day.nhn?code=001740&page=2\n",
      "##############################\n",
      "https://finance.naver.com/item/sise_day.nhn?code=001740&page=3\n",
      "##############################\n",
      "https://finance.naver.com/item/sise_day.nhn?code=001740&page=4\n",
      "##############################\n",
      "https://finance.naver.com/item/sise_day.nhn?code=001740&page=5\n",
      "##############################\n",
      "https://finance.naver.com/item/sise_day.nhn?code=001740&page=6\n",
      "##############################\n",
      "https://finance.naver.com/item/sise_day.nhn?code=001740&page=7\n"
     ]
    }
   ],
   "source": [
    "MyCrawl(complist[2],1,8)"
   ]
  },
  {
   "cell_type": "code",
   "execution_count": 20,
   "metadata": {},
   "outputs": [
    {
     "name": "stdout",
     "output_type": "stream",
     "text": [
      "##############################\n",
      "https://finance.naver.com/item/sise_day.nhn?code=031430&page=1\n",
      "##############################\n",
      "https://finance.naver.com/item/sise_day.nhn?code=031430&page=2\n",
      "##############################\n",
      "https://finance.naver.com/item/sise_day.nhn?code=031430&page=3\n",
      "##############################\n",
      "https://finance.naver.com/item/sise_day.nhn?code=031430&page=4\n",
      "##############################\n",
      "https://finance.naver.com/item/sise_day.nhn?code=031430&page=5\n",
      "##############################\n",
      "https://finance.naver.com/item/sise_day.nhn?code=031430&page=6\n",
      "##############################\n",
      "https://finance.naver.com/item/sise_day.nhn?code=031430&page=7\n"
     ]
    }
   ],
   "source": [
    "MyCrawl(complist[3],1,8)"
   ]
  },
  {
   "cell_type": "code",
   "execution_count": null,
   "metadata": {},
   "outputs": [],
   "source": []
  }
 ],
 "metadata": {
  "kernelspec": {
   "display_name": "Python 3",
   "language": "python",
   "name": "python3"
  },
  "language_info": {
   "codemirror_mode": {
    "name": "ipython",
    "version": 3
   },
   "file_extension": ".py",
   "mimetype": "text/x-python",
   "name": "python",
   "nbconvert_exporter": "python",
   "pygments_lexer": "ipython3",
   "version": "3.8.3"
  }
 },
 "nbformat": 4,
 "nbformat_minor": 4
}
